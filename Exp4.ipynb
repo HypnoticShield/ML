{
 "cells": [
  {
   "cell_type": "code",
   "execution_count": null,
   "metadata": {},
   "outputs": [],
   "source": []
  },
  {
   "cell_type": "markdown",
   "metadata": {},
   "source": [
    "Experiment 4"
   ]
  },
  {
   "cell_type": "code",
   "execution_count": 1,
   "metadata": {},
   "outputs": [],
   "source": [
    "import pandas as pd\n",
    "data = pd.read_csv('/Users/deepak/Programs/ML/pre-ownedcars.csv')"
   ]
  },
  {
   "cell_type": "code",
   "execution_count": 2,
   "metadata": {},
   "outputs": [
    {
     "name": "stdout",
     "output_type": "stream",
     "text": [
      "      brand                                     model transmission  make_year  \\\n",
      "0  Mahindra              Thar LX D 4WD MT CONVERTIBLE       Manual     2020.0   \n",
      "1   Hyundai                         Verna 1.6 VTVT SX       Manual     2018.0   \n",
      "2      Tata  Harrier XT PLUS 2.0L KRYOTEC DARK EDITON       Manual     2022.0   \n",
      "3     Honda                     City 1.5L I-VTE V CVT    Automatic     2023.0   \n",
      "4      Ford             Ecosport TITANIUM 1.5L DIESEL       Manual     2021.0   \n",
      "\n",
      "     reg_year fuel_type  engine_capacity(CC)  km_driven  ownership    price  \\\n",
      "0  01-01-2021    Diesel               2184.0    11003.0  1st owner  1231000   \n",
      "1  01-07-2018    Petrol               1591.0    66936.0  1st owner   786000   \n",
      "2  01-08-2022    Diesel               1956.0    27990.0  1st owner  1489000   \n",
      "3  01-04-2023    Petrol               1498.0     5061.0  1st owner  1227000   \n",
      "4  01-07-2021    Diesel               1498.0    23480.0  1st owner   887000   \n",
      "\n",
      "   overall_cost has_insurance spare_key reg_number  \\\n",
      "0       23431.0          True        No       HR26   \n",
      "1       15359.0          True        No       DL7C   \n",
      "2       28349.0          True        No       HR29   \n",
      "3       23355.0          True       Yes       DL4C   \n",
      "4       16883.0          True        No       UP14   \n",
      "\n",
      "                                               title  \n",
      "0         2020 Mahindra Thar LX D 4WD MT CONVERTIBLE  \n",
      "1                     2018 Hyundai Verna 1.6 VTVT SX  \n",
      "2  2022 Tata Harrier XT PLUS 2.0L KRYOTEC DARK ED...  \n",
      "3                   2023 Honda City 1.5L I-VTE V CVT  \n",
      "4            2021 Ford Ecosport TITANIUM 1.5L DIESEL  \n"
     ]
    }
   ],
   "source": [
    "print(data.head())"
   ]
  },
  {
   "cell_type": "code",
   "execution_count": 3,
   "metadata": {},
   "outputs": [
    {
     "name": "stdout",
     "output_type": "stream",
     "text": [
      "(2806, 15)\n"
     ]
    }
   ],
   "source": [
    "print(data.shape)"
   ]
  },
  {
   "cell_type": "code",
   "execution_count": 4,
   "metadata": {},
   "outputs": [
    {
     "name": "stdout",
     "output_type": "stream",
     "text": [
      "<class 'pandas.core.frame.DataFrame'>\n",
      "RangeIndex: 2806 entries, 0 to 2805\n",
      "Data columns (total 15 columns):\n",
      " #   Column               Non-Null Count  Dtype  \n",
      "---  ------               --------------  -----  \n",
      " 0   brand                2805 non-null   object \n",
      " 1   model                2805 non-null   object \n",
      " 2   transmission         2805 non-null   object \n",
      " 3   make_year            2805 non-null   float64\n",
      " 4   reg_year             720 non-null    object \n",
      " 5   fuel_type            2805 non-null   object \n",
      " 6   engine_capacity(CC)  2688 non-null   float64\n",
      " 7   km_driven            2805 non-null   float64\n",
      " 8   ownership            2805 non-null   object \n",
      " 9   price                2806 non-null   int64  \n",
      " 10  overall_cost         2805 non-null   float64\n",
      " 11  has_insurance        2805 non-null   object \n",
      " 12  spare_key            2805 non-null   object \n",
      " 13  reg_number           2805 non-null   object \n",
      " 14  title                2805 non-null   object \n",
      "dtypes: float64(4), int64(1), object(10)\n",
      "memory usage: 329.0+ KB\n",
      "None\n"
     ]
    }
   ],
   "source": [
    "print(data.info())"
   ]
  },
  {
   "cell_type": "code",
   "execution_count": 5,
   "metadata": {},
   "outputs": [
    {
     "name": "stdout",
     "output_type": "stream",
     "text": [
      "336848\n"
     ]
    }
   ],
   "source": [
    "print(data.memory_usage().sum())"
   ]
  },
  {
   "cell_type": "code",
   "execution_count": 6,
   "metadata": {},
   "outputs": [
    {
     "name": "stdout",
     "output_type": "stream",
     "text": [
      "brand                     1\n",
      "model                     1\n",
      "transmission              1\n",
      "make_year                 1\n",
      "reg_year               2086\n",
      "fuel_type                 1\n",
      "engine_capacity(CC)     118\n",
      "km_driven                 1\n",
      "ownership                 1\n",
      "price                     0\n",
      "overall_cost              1\n",
      "has_insurance             1\n",
      "spare_key                 1\n",
      "reg_number                1\n",
      "title                     1\n",
      "dtype: int64\n"
     ]
    }
   ],
   "source": [
    "print(data.isnull().sum())"
   ]
  },
  {
   "cell_type": "code",
   "execution_count": 7,
   "metadata": {},
   "outputs": [
    {
     "name": "stderr",
     "output_type": "stream",
     "text": [
      "/var/folders/5j/m6yfb1ld1ps7h23lt460ly180000gn/T/ipykernel_22327/1474580016.py:1: FutureWarning: Dropping of nuisance columns in DataFrame reductions (with 'numeric_only=None') is deprecated; in a future version this will raise TypeError.  Select only valid columns before calling the reduction.\n",
      "  data.fillna(data.mean(), inplace=True)\n"
     ]
    }
   ],
   "source": [
    "data.fillna(data.mean(), inplace=True)"
   ]
  },
  {
   "cell_type": "code",
   "execution_count": 8,
   "metadata": {},
   "outputs": [
    {
     "name": "stdout",
     "output_type": "stream",
     "text": [
      "         make_year  engine_capacity(CC)      km_driven         price  \\\n",
      "count  2806.000000          2806.000000    2806.000000  2.806000e+03   \n",
      "mean   2018.181105          1259.027530   49215.477362  1.342522e+06   \n",
      "std       2.944768           249.094062   26622.185940  3.554669e+07   \n",
      "min    2010.000000           624.000000     450.000000  1.630000e+05   \n",
      "25%    2016.000000          1197.000000   28556.500000  4.350000e+05   \n",
      "50%    2018.000000          1197.000000   45699.500000  5.940000e+05   \n",
      "75%    2021.000000          1451.000000   68177.750000  8.140000e+05   \n",
      "max    2024.000000          2694.000000  143991.000000  1.883558e+09   \n",
      "\n",
      "       overall_cost  \n",
      "count   2806.000000  \n",
      "mean   13495.022816  \n",
      "std     6039.732331  \n",
      "min     4039.000000  \n",
      "25%     9267.500000  \n",
      "50%    12149.000000  \n",
      "75%    15760.000000  \n",
      "max    47338.000000  \n"
     ]
    }
   ],
   "source": [
    "numerical_columns = data.select_dtypes(include=['number'])\n",
    "statistics = numerical_columns.describe()\n",
    "print(statistics)"
   ]
  },
  {
   "cell_type": "code",
   "execution_count": 9,
   "metadata": {},
   "outputs": [
    {
     "name": "stdout",
     "output_type": "stream",
     "text": [
      "Sum: 138098629.47736186\n"
     ]
    }
   ],
   "source": [
    "total = data['km_driven'].sum()\n",
    "print(\"Sum:\", total)"
   ]
  },
  {
   "cell_type": "code",
   "execution_count": 10,
   "metadata": {},
   "outputs": [
    {
     "name": "stdout",
     "output_type": "stream",
     "text": [
      "Average: 49215.47736185383\n"
     ]
    }
   ],
   "source": [
    "average = data['km_driven'].mean()\n",
    "print(\"Average:\", average)"
   ]
  },
  {
   "cell_type": "code",
   "execution_count": 11,
   "metadata": {},
   "outputs": [
    {
     "name": "stdout",
     "output_type": "stream",
     "text": [
      "Minimum: 450.0\n"
     ]
    }
   ],
   "source": [
    "minimum = data['km_driven'].min()\n",
    "print(\"Minimum:\", minimum)"
   ]
  },
  {
   "cell_type": "code",
   "execution_count": 12,
   "metadata": {},
   "outputs": [
    {
     "name": "stdout",
     "output_type": "stream",
     "text": [
      "Maximum: 143991.0\n"
     ]
    }
   ],
   "source": [
    "maximum = data['km_driven'].max()\n",
    "print(\"Maximum:\", maximum)"
   ]
  }
 ],
 "metadata": {
  "kernelspec": {
   "display_name": "Python 3",
   "language": "python",
   "name": "python3"
  },
  "language_info": {
   "codemirror_mode": {
    "name": "ipython",
    "version": 3
   },
   "file_extension": ".py",
   "mimetype": "text/x-python",
   "name": "python",
   "nbconvert_exporter": "python",
   "pygments_lexer": "ipython3",
   "version": "3.10.4"
  }
 },
 "nbformat": 4,
 "nbformat_minor": 2
}
