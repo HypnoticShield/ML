{
  "nbformat": 4,
  "nbformat_minor": 0,
  "metadata": {
    "colab": {
      "provenance": []
    },
    "kernelspec": {
      "name": "python3",
      "display_name": "Python 3"
    },
    "language_info": {
      "name": "python"
    }
  },
  "cells": [
    {
      "cell_type": "code",
      "execution_count": 2,
      "metadata": {
        "id": "Rcu7N6uaNNcZ"
      },
      "outputs": [],
      "source": [
        "import pandas as pd\n",
        "import numpy as np\n",
        "import seaborn as sns\n",
        "import matplotlib.pyplot as plt\n",
        "import random"
      ]
    },
    {
      "cell_type": "code",
      "source": [
        "df = pd.read_csv('https://raw.githubusercontent.com/HypnoticShield/ML/refs/heads/main/pre-ownedcars.csv')"
      ],
      "metadata": {
        "id": "xnkpeMx6VEFV"
      },
      "execution_count": 3,
      "outputs": []
    },
    {
      "cell_type": "code",
      "source": [
        "missing_values_count = df.isnull().sum()\n",
        "print(\"Missing Values in Each Column:\")\n",
        "print(missing_values_count)"
      ],
      "metadata": {
        "colab": {
          "base_uri": "https://localhost:8080/"
        },
        "id": "iefphDUCVSgf",
        "outputId": "831593c3-baef-493a-c6ac-457bcb8a9470"
      },
      "execution_count": 4,
      "outputs": [
        {
          "output_type": "stream",
          "name": "stdout",
          "text": [
            "Missing Values in Each Column:\n",
            "brand                     1\n",
            "model                     1\n",
            "transmission              1\n",
            "make_year                 1\n",
            "reg_year               2086\n",
            "fuel_type                 1\n",
            "engine_capacity(CC)     118\n",
            "km_driven                 1\n",
            "ownership                 1\n",
            "price                     0\n",
            "overall_cost              1\n",
            "has_insurance             1\n",
            "spare_key                 1\n",
            "reg_number                1\n",
            "title                     1\n",
            "dtype: int64\n"
          ]
        }
      ]
    },
    {
      "cell_type": "code",
      "source": [
        "most_missing = missing_values_count[missing_values_count == missing_values_count.max()]\n",
        "print(\"\\nColumns with the Most Missing Values:\")\n",
        "print(most_missing)"
      ],
      "metadata": {
        "colab": {
          "base_uri": "https://localhost:8080/"
        },
        "id": "JSo5wt7_QeJT",
        "outputId": "216a061b-aa00-41b9-d854-f7bfc97e5ff5"
      },
      "execution_count": 5,
      "outputs": [
        {
          "output_type": "stream",
          "name": "stdout",
          "text": [
            "\n",
            "Columns with the Most Missing Values:\n",
            "reg_year    2086\n",
            "dtype: int64\n"
          ]
        }
      ]
    },
    {
      "cell_type": "code",
      "source": [
        "numerical_cols = df.select_dtypes(include=['float64', 'int64']).columns\n",
        "for col in numerical_cols:\n",
        "    if df[col].isnull().sum() > 0:\n",
        "        mean_value = df[col].mean()\n",
        "        df[col].fillna(mean_value, inplace=True)"
      ],
      "metadata": {
        "colab": {
          "base_uri": "https://localhost:8080/"
        },
        "id": "RI1a8ChrQkM1",
        "outputId": "6abe1e17-567b-4ab7-837a-97dbfbf784fc"
      },
      "execution_count": 6,
      "outputs": [
        {
          "output_type": "stream",
          "name": "stderr",
          "text": [
            "<ipython-input-6-e7b024b83ee9>:5: FutureWarning: A value is trying to be set on a copy of a DataFrame or Series through chained assignment using an inplace method.\n",
            "The behavior will change in pandas 3.0. This inplace method will never work because the intermediate object on which we are setting values always behaves as a copy.\n",
            "\n",
            "For example, when doing 'df[col].method(value, inplace=True)', try using 'df.method({col: value}, inplace=True)' or df[col] = df[col].method(value) instead, to perform the operation inplace on the original object.\n",
            "\n",
            "\n",
            "  df[col].fillna(mean_value, inplace=True)\n"
          ]
        }
      ]
    },
    {
      "cell_type": "code",
      "source": [
        "categorical_cols = df.select_dtypes(include=['object']).columns\n",
        "for col in categorical_cols:\n",
        "    if df[col].isnull().sum() > 0:\n",
        "        mode_value = df[col].mode()[0]\n",
        "        df[col].fillna(mode_value, inplace=True)"
      ],
      "metadata": {
        "colab": {
          "base_uri": "https://localhost:8080/"
        },
        "id": "nPfPdFXxQs52",
        "outputId": "4d85d40e-e66f-4dce-a178-596b8133692c"
      },
      "execution_count": 7,
      "outputs": [
        {
          "output_type": "stream",
          "name": "stderr",
          "text": [
            "<ipython-input-7-029526777873>:5: FutureWarning: A value is trying to be set on a copy of a DataFrame or Series through chained assignment using an inplace method.\n",
            "The behavior will change in pandas 3.0. This inplace method will never work because the intermediate object on which we are setting values always behaves as a copy.\n",
            "\n",
            "For example, when doing 'df[col].method(value, inplace=True)', try using 'df.method({col: value}, inplace=True)' or df[col] = df[col].method(value) instead, to perform the operation inplace on the original object.\n",
            "\n",
            "\n",
            "  df[col].fillna(mode_value, inplace=True)\n",
            "<ipython-input-7-029526777873>:5: FutureWarning: Downcasting object dtype arrays on .fillna, .ffill, .bfill is deprecated and will change in a future version. Call result.infer_objects(copy=False) instead. To opt-in to the future behavior, set `pd.set_option('future.no_silent_downcasting', True)`\n",
            "  df[col].fillna(mode_value, inplace=True)\n"
          ]
        }
      ]
    },
    {
      "cell_type": "code",
      "source": [
        "print(\"\\nDataset after Handling Missing Values:\")\n",
        "print(df.head())"
      ],
      "metadata": {
        "colab": {
          "base_uri": "https://localhost:8080/"
        },
        "id": "uuDEXOO8Qxdf",
        "outputId": "369386db-1b6d-46a7-935d-5cd72ae229d9"
      },
      "execution_count": 8,
      "outputs": [
        {
          "output_type": "stream",
          "name": "stdout",
          "text": [
            "\n",
            "Dataset after Handling Missing Values:\n",
            "      brand                                     model transmission  make_year  \\\n",
            "0  Mahindra              Thar LX D 4WD MT CONVERTIBLE       Manual     2020.0   \n",
            "1   Hyundai                         Verna 1.6 VTVT SX       Manual     2018.0   \n",
            "2      Tata  Harrier XT PLUS 2.0L KRYOTEC DARK EDITON       Manual     2022.0   \n",
            "3     Honda                     City 1.5L I-VTE V CVT    Automatic     2023.0   \n",
            "4      Ford             Ecosport TITANIUM 1.5L DIESEL       Manual     2021.0   \n",
            "\n",
            "     reg_year fuel_type  engine_capacity(CC)  km_driven  ownership    price  \\\n",
            "0  01-01-2021    Diesel               2184.0    11003.0  1st owner  1231000   \n",
            "1  01-07-2018    Petrol               1591.0    66936.0  1st owner   786000   \n",
            "2  01-08-2022    Diesel               1956.0    27990.0  1st owner  1489000   \n",
            "3  01-04-2023    Petrol               1498.0     5061.0  1st owner  1227000   \n",
            "4  01-07-2021    Diesel               1498.0    23480.0  1st owner   887000   \n",
            "\n",
            "   overall_cost  has_insurance spare_key reg_number  \\\n",
            "0       23431.0           True        No       HR26   \n",
            "1       15359.0           True        No       DL7C   \n",
            "2       28349.0           True        No       HR29   \n",
            "3       23355.0           True       Yes       DL4C   \n",
            "4       16883.0           True        No       UP14   \n",
            "\n",
            "                                               title  \n",
            "0         2020 Mahindra Thar LX D 4WD MT CONVERTIBLE  \n",
            "1                     2018 Hyundai Verna 1.6 VTVT SX  \n",
            "2  2022 Tata Harrier XT PLUS 2.0L KRYOTEC DARK ED...  \n",
            "3                   2023 Honda City 1.5L I-VTE V CVT  \n",
            "4            2021 Ford Ecosport TITANIUM 1.5L DIESEL  \n"
          ]
        }
      ]
    },
    {
      "cell_type": "code",
      "source": [
        "Q1 = df[numerical_cols].quantile(0.25)\n",
        "Q3 = df[numerical_cols].quantile(0.75)\n",
        "IQR = Q3 - Q1\n",
        "outlier_condition = (df[numerical_cols] < (Q1 - 1.5 * IQR)) | (df[numerical_cols] > (Q3 + 1.5 * IQR))\n"
      ],
      "metadata": {
        "id": "opCNPmPrQzd3"
      },
      "execution_count": 9,
      "outputs": []
    },
    {
      "cell_type": "code",
      "source": [
        "for col in numerical_cols:\n",
        "    if outlier_condition[col].any():\n",
        "        median_value = df[col].median()\n",
        "        df.loc[outlier_condition[col], col] = median_value"
      ],
      "metadata": {
        "id": "4Dj6eAjsQ7YX"
      },
      "execution_count": 10,
      "outputs": []
    },
    {
      "cell_type": "code",
      "source": [
        "print(\"\\nDataset after Handling Outliers:\")\n",
        "print(df.head())"
      ],
      "metadata": {
        "colab": {
          "base_uri": "https://localhost:8080/"
        },
        "id": "qng5s3r0Q9lQ",
        "outputId": "cb1907f0-7b85-4a92-af6b-6ecf0803d0a5"
      },
      "execution_count": 11,
      "outputs": [
        {
          "output_type": "stream",
          "name": "stdout",
          "text": [
            "\n",
            "Dataset after Handling Outliers:\n",
            "      brand                                     model transmission  make_year  \\\n",
            "0  Mahindra              Thar LX D 4WD MT CONVERTIBLE       Manual     2020.0   \n",
            "1   Hyundai                         Verna 1.6 VTVT SX       Manual     2018.0   \n",
            "2      Tata  Harrier XT PLUS 2.0L KRYOTEC DARK EDITON       Manual     2022.0   \n",
            "3     Honda                     City 1.5L I-VTE V CVT    Automatic     2023.0   \n",
            "4      Ford             Ecosport TITANIUM 1.5L DIESEL       Manual     2021.0   \n",
            "\n",
            "     reg_year fuel_type  engine_capacity(CC)  km_driven  ownership    price  \\\n",
            "0  01-01-2021    Diesel               1197.0    11003.0  1st owner  1231000   \n",
            "1  01-07-2018    Petrol               1591.0    66936.0  1st owner   786000   \n",
            "2  01-08-2022    Diesel               1197.0    27990.0  1st owner   594000   \n",
            "3  01-04-2023    Petrol               1498.0     5061.0  1st owner  1227000   \n",
            "4  01-07-2021    Diesel               1498.0    23480.0  1st owner   887000   \n",
            "\n",
            "   overall_cost  has_insurance spare_key reg_number  \\\n",
            "0       23431.0           True        No       HR26   \n",
            "1       15359.0           True        No       DL7C   \n",
            "2       12149.0           True        No       HR29   \n",
            "3       23355.0           True       Yes       DL4C   \n",
            "4       16883.0           True        No       UP14   \n",
            "\n",
            "                                               title  \n",
            "0         2020 Mahindra Thar LX D 4WD MT CONVERTIBLE  \n",
            "1                     2018 Hyundai Verna 1.6 VTVT SX  \n",
            "2  2022 Tata Harrier XT PLUS 2.0L KRYOTEC DARK ED...  \n",
            "3                   2023 Honda City 1.5L I-VTE V CVT  \n",
            "4            2021 Ford Ecosport TITANIUM 1.5L DIESEL  \n"
          ]
        }
      ]
    },
    {
      "cell_type": "code",
      "source": [
        "print(\"\\nFinal Cleaned Dataset:\")\n",
        "print(df)"
      ],
      "metadata": {
        "colab": {
          "base_uri": "https://localhost:8080/"
        },
        "id": "E-a5VcX1RBm3",
        "outputId": "012a8ef0-2874-4cd4-8219-dd35aa961dff"
      },
      "execution_count": 12,
      "outputs": [
        {
          "output_type": "stream",
          "name": "stdout",
          "text": [
            "\n",
            "Final Cleaned Dataset:\n",
            "         brand                                     model transmission  \\\n",
            "0     Mahindra              Thar LX D 4WD MT CONVERTIBLE       Manual   \n",
            "1      Hyundai                         Verna 1.6 VTVT SX       Manual   \n",
            "2         Tata  Harrier XT PLUS 2.0L KRYOTEC DARK EDITON       Manual   \n",
            "3        Honda                     City 1.5L I-VTE V CVT    Automatic   \n",
            "4         Ford             Ecosport TITANIUM 1.5L DIESEL       Manual   \n",
            "...        ...                                       ...          ...   \n",
            "2801      Ford           Ecosport TREND + 1.5L PETROL AT    Automatic   \n",
            "2802     Honda                        Jazz 1.2L I-VTEC V       Manual   \n",
            "2803   Hyundai                       Elite i20 MAGNA 1.2       Manual   \n",
            "2804    Maruti                   Baleno DELTA PETROL 1.2       Manual   \n",
            "2805    Maruti                   Baleno DELTA PETROL 1.2       Manual   \n",
            "\n",
            "        make_year    reg_year fuel_type  engine_capacity(CC)     km_driven  \\\n",
            "0     2020.000000  01-01-2021    Diesel           1197.00000  11003.000000   \n",
            "1     2018.000000  01-07-2018    Petrol           1591.00000  66936.000000   \n",
            "2     2022.000000  01-08-2022    Diesel           1197.00000  27990.000000   \n",
            "3     2023.000000  01-04-2023    Petrol           1498.00000   5061.000000   \n",
            "4     2021.000000  01-07-2021    Diesel           1498.00000  23480.000000   \n",
            "...           ...         ...       ...                  ...           ...   \n",
            "2801  2018.000000  01-07-2021    Petrol           1497.00000  46982.000000   \n",
            "2802  2015.000000  01-07-2021    Petrol           1199.00000  38706.000000   \n",
            "2803  2016.000000  01-07-2021    Petrol           1197.00000  31405.000000   \n",
            "2804  2017.000000  01-07-2021    Petrol           1197.00000  47676.000000   \n",
            "2805  2018.181105  01-07-2021    Petrol           1259.02753  49215.477362   \n",
            "\n",
            "      ownership    price  overall_cost  has_insurance spare_key reg_number  \\\n",
            "0     1st owner  1231000  23431.000000           True        No       HR26   \n",
            "1     1st owner   786000  15359.000000           True        No       DL7C   \n",
            "2     1st owner   594000  12149.000000           True        No       HR29   \n",
            "3     1st owner  1227000  23355.000000           True       Yes       DL4C   \n",
            "4     1st owner   887000  16883.000000           True        No       UP14   \n",
            "...         ...      ...           ...            ...       ...        ...   \n",
            "2801  1st owner   661000  12920.000000           True       Yes       MH03   \n",
            "2802  2nd owner   412000   8057.000000           True       Yes       MH01   \n",
            "2803  1st owner   496000   9704.000000           True       Yes       MH03   \n",
            "2804  1st owner   509000   9959.000000           True       Yes       MH04   \n",
            "2805  1st owner   594000  13495.022816           True        No       KA05   \n",
            "\n",
            "                                                  title  \n",
            "0            2020 Mahindra Thar LX D 4WD MT CONVERTIBLE  \n",
            "1                        2018 Hyundai Verna 1.6 VTVT SX  \n",
            "2     2022 Tata Harrier XT PLUS 2.0L KRYOTEC DARK ED...  \n",
            "3                      2023 Honda City 1.5L I-VTE V CVT  \n",
            "4               2021 Ford Ecosport TITANIUM 1.5L DIESEL  \n",
            "...                                                 ...  \n",
            "2801          2018 Ford Ecosport TREND + 1.5L PETROL AT  \n",
            "2802                      2015 Honda Jazz 1.2L I-VTEC V  \n",
            "2803                   2016 Hyundai Elite i20 MAGNA 1.2  \n",
            "2804                2017 Maruti Baleno DELTA PETROL 1.2  \n",
            "2805                2017 Maruti Baleno DELTA PETROL 1.2  \n",
            "\n",
            "[2806 rows x 15 columns]\n"
          ]
        }
      ]
    },
    {
      "cell_type": "code",
      "source": [
        "print(\"\\nSummary of Preprocessing Steps:\")\n",
        "print(f\"1. Identified missing values in columns: {missing_values_count.sum()} total missing values handled.\")\n",
        "print(f\"2. Filled numerical columns with mean/median and categorical columns with mode.\")\n",
        "print(f\"3. Detected and handled outliers in numerical columns using IQR method.\")"
      ],
      "metadata": {
        "colab": {
          "base_uri": "https://localhost:8080/"
        },
        "id": "_L7POBQdRIoC",
        "outputId": "b45655f4-a5d4-4482-b619-65ebad164f51"
      },
      "execution_count": 13,
      "outputs": [
        {
          "output_type": "stream",
          "name": "stdout",
          "text": [
            "\n",
            "Summary of Preprocessing Steps:\n",
            "1. Identified missing values in columns: 2216 total missing values handled.\n",
            "2. Filled numerical columns with mean/median and categorical columns with mode.\n",
            "3. Detected and handled outliers in numerical columns using IQR method.\n"
          ]
        }
      ]
    }
  ]
}